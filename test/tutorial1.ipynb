{
 "cells": [
  {
   "cell_type": "markdown",
   "metadata": {},
   "source": [
    "## Tutorial1: Cell identity inference.\n",
    "This tutorial demonstrates how to identify cell type on scRNA-seq data using Cell Graph-Net. Please refer to the homepage for software environment configuration and installation instructions.The tutorial employs a demonstration dataset derived from single-cell transcriptomic data of the human bone."
   ]
  },
  {
   "cell_type": "markdown",
   "metadata": {},
   "source": [
    "### Preparation"
   ]
  },
  {
   "cell_type": "code",
   "execution_count": 1,
   "metadata": {},
   "outputs": [],
   "source": [
    "import cellgraph\n",
    "import warnings\n",
    "import scanpy as sc \n",
    "warnings.filterwarnings (\"ignore\")"
   ]
  },
  {
   "cell_type": "code",
   "execution_count": 2,
   "metadata": {},
   "outputs": [
    {
     "name": "stdout",
     "output_type": "stream",
     "text": [
      "2.0.1+cu117\n",
      "(8, 6) NVIDIA GeForce RTX 3090\n"
     ]
    }
   ],
   "source": [
    "import torch\n",
    "print(torch.__version__)\n",
    "print(torch.cuda.get_device_capability(device=None),  torch.cuda.get_device_name(device=None))"
   ]
  },
  {
   "cell_type": "code",
   "execution_count": 6,
   "metadata": {},
   "outputs": [],
   "source": [
    "ref_adata = sc.read_h5ad('../data/hBone/hBone_ref_adata.h5ad')"
   ]
  },
  {
   "cell_type": "code",
   "execution_count": 7,
   "metadata": {},
   "outputs": [
    {
     "data": {
      "text/plain": [
       "AnnData object with n_obs × n_vars = 20026 × 3000\n",
       "    obs: 'orig.ident', 'nCount_RNA', 'nFeature_RNA', 'Cell', 'Celltype', 'Platform', 'cell_type'\n",
       "    var: 'features', 'n_cells', 'highly_variable', 'means', 'dispersions', 'dispersions_norm'\n",
       "    uns: 'hierarchy', 'hvg', 'log1p', 'ppi'"
      ]
     },
     "execution_count": 7,
     "metadata": {},
     "output_type": "execute_result"
    }
   ],
   "source": [
    "ref_adata"
   ]
  },
  {
   "cell_type": "markdown",
   "metadata": {},
   "source": [
    "### Constructing the model"
   ]
  },
  {
   "cell_type": "code",
   "execution_count": null,
   "metadata": {},
   "outputs": [],
   "source": [
    "from cellgraph.data import interactions,hierarchy\n",
    "import json\n",
    "#hierarchy\n",
    "n_layers = 3 # n layers of the model\n",
    "reactome = hierarchy.hierarchy_layer(species='HSA') #HSA: human,MMU:mouse  \n",
    "layers = reactome.get_layers(n_levels=n_layers)\n",
    "ref_adata.uns['hierarchy'] = json.dumps(layers) \n",
    "#ppi\n",
    "ref_adata = interactions.data_mapping_ppi(ref_adata,ppi_data) #ppi_data: ppi network"
   ]
  },
  {
   "cell_type": "code",
   "execution_count": null,
   "metadata": {},
   "outputs": [],
   "source": [
    "ref_adata"
   ]
  },
  {
   "cell_type": "markdown",
   "metadata": {},
   "source": [
    "### Training Cell Graph-Net"
   ]
  },
  {
   "cell_type": "code",
   "execution_count": null,
   "metadata": {},
   "outputs": [],
   "source": [
    "dataset = \"hBone\"\n",
    "device_id = 1\n",
    "log_dir = f\"../log/{dataset}\"\n",
    "model_args = {\"add_one_hot\":1, \n",
    "              \"skip_raw\": 1, \n",
    "              \"pool\":\"mean\", \n",
    "              \"nhid\":64, \n",
    "              \"lr\": 0.001, \n",
    "              \"bootstrap_num\": -1, \n",
    "              \"encoder\": \"gat\", \n",
    "              \"heads\": 4\n",
    "              }"
   ]
  }
 ],
 "metadata": {
  "kernelspec": {
   "display_name": "BIHGNN",
   "language": "python",
   "name": "python3"
  },
  "language_info": {
   "codemirror_mode": {
    "name": "ipython",
    "version": 3
   },
   "file_extension": ".py",
   "mimetype": "text/x-python",
   "name": "python",
   "nbconvert_exporter": "python",
   "pygments_lexer": "ipython3",
   "version": "3.8.16"
  },
  "orig_nbformat": 4
 },
 "nbformat": 4,
 "nbformat_minor": 2
}
