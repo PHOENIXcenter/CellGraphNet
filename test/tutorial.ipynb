{
 "cells": [
  {
   "cell_type": "markdown",
   "metadata": {},
   "source": [
    "## Tutorial: Cell identity inference.\n",
    "This tutorial demonstrates how to identify cell type on scRNA-seq data using Cell Graph-Net. Please refer to the homepage for software environment configuration and installation instructions.The tutorial employs a demonstration dataset derived from single-cell transcriptomic data of the human bone."
   ]
  },
  {
   "cell_type": "markdown",
   "metadata": {},
   "source": [
    "### Preparation"
   ]
  },
  {
   "cell_type": "code",
   "execution_count": null,
   "metadata": {},
   "outputs": [],
   "source": [
    "import cellgraph\n",
    "import warnings \n",
    "import scanpy as sc \n",
    "warnings.filterwarnings (\"ignore\")"
   ]
  },
  {
   "cell_type": "code",
   "execution_count": null,
   "metadata": {},
   "outputs": [],
   "source": [
    "import torch\n",
    "print(torch.__version__)\n",
    "print(torch.cuda.get_device_capability(device=None),  torch.cuda.get_device_name(device=None))"
   ]
  },
  {
   "cell_type": "code",
   "execution_count": null,
   "metadata": {},
   "outputs": [],
   "source": [
    "ref_adata = sc.read_h5ad('../data/hBone/hBone_ref_adata.h5ad')"
   ]
  },
  {
   "cell_type": "markdown",
   "metadata": {},
   "source": [
    "### Constructing the model"
   ]
  },
  {
   "cell_type": "code",
   "execution_count": null,
   "metadata": {},
   "outputs": [],
   "source": [
    "from cellgraph.data import interactions,hierarchy\n",
    "import json\n",
    "import pandas as pd\n",
    "#hierarchy\n",
    "n_layers = 3 # n layers of the model\n",
    "reactome = hierarchy.hierarchy_layer(species='HSA') \n",
    "layers = reactome.get_layers(n_levels=n_layers)\n",
    "ref_adata.uns['hierarchy'] = json.dumps(layers)\n",
    "#ppi\n",
    "human_ppi = pd.read_csv('../data/ppi/human_string_higconf.csv')\n",
    "ref_adata = interactions.data_mapping_ppi(ref_adata,human_ppi,top_genes=3000)"
   ]
  },
  {
   "cell_type": "code",
   "execution_count": null,
   "metadata": {},
   "outputs": [],
   "source": [
    "ref_adata"
   ]
  },
  {
   "cell_type": "markdown",
   "metadata": {},
   "source": [
    "## Train"
   ]
  },
  {
   "cell_type": "code",
   "execution_count": null,
   "metadata": {},
   "outputs": [],
   "source": [
    "dataset = \"../data/hBone/hBone_ref_adata.h5ad\"\n",
    "device_id = 1\n",
    "log_dir = f\"../log/hBone\"\n",
    "model_args = {\"add_one_hot\":1, \n",
    "              \"skip_raw\": 1, \n",
    "              \"pool\":\"mean\", \n",
    "              \"nhid\":64, \n",
    "              \"lr\": 0.001, \n",
    "              \"bootstrap_num\": -1, \n",
    "              \"encoder\": \"gat\", \n",
    "              \"heads\": 4\n",
    "              }"
   ]
  },
  {
   "cell_type": "code",
   "execution_count": null,
   "metadata": {
    "scrolled": true
   },
   "outputs": [],
   "source": [
    "cellgraph.train(dataset = dataset, device_id = device_id, log_dir = log_dir, **model_args)"
   ]
  },
  {
   "cell_type": "markdown",
   "metadata": {},
   "source": [
    "## Test"
   ]
  },
  {
   "cell_type": "code",
   "execution_count": null,
   "metadata": {},
   "outputs": [],
   "source": [
    "device_id = 1\n",
    "log_dir = f\"../log/hBone\"\n",
    "dataset = \"../data/hBone/hBone_query_adata.h5ad\"\n",
    "fn_process = \"processed-test\""
   ]
  },
  {
   "cell_type": "code",
   "execution_count": null,
   "metadata": {},
   "outputs": [],
   "source": [
    "cellgraph.test(dataset = dataset, device_id = device_id, log_dir = log_dir, fn_process = fn_process)"
   ]
  },
  {
   "cell_type": "markdown",
   "metadata": {},
   "source": [
    "# Embed"
   ]
  },
  {
   "cell_type": "code",
   "execution_count": null,
   "metadata": {},
   "outputs": [],
   "source": [
    "device_id = 1\n",
    "log_dir = f\"../log/hBone\"\n",
    "dataset = \"../data/hBone/hBone_query_adata.h5ad\"\n",
    "fn_process = \"processed-test\""
   ]
  },
  {
   "cell_type": "code",
   "execution_count": null,
   "metadata": {},
   "outputs": [],
   "source": [
    "cellgraph.embed(dataset = dataset, device_id = device_id ,log_dir = log_dir, out_embed = \"output\", fn_process = fn_process)"
   ]
  },
  {
   "cell_type": "markdown",
   "metadata": {},
   "source": [
    "# Predict"
   ]
  },
  {
   "cell_type": "code",
   "execution_count": null,
   "metadata": {},
   "outputs": [],
   "source": [
    "device_id = 1\n",
    "log_dir = f\"../log/hBone\"\n",
    "dataset = \"../data/hBone/hBone_query_adata.h5ad\"\n",
    "fn_process = \"processed-test\"\n",
    "predict_type = 'cell'"
   ]
  },
  {
   "cell_type": "code",
   "execution_count": null,
   "metadata": {},
   "outputs": [],
   "source": [
    "cells = cellgraph.predict(dataset = dataset, device_id = device_id ,log_dir = log_dir, fn_process = fn_process, predict_type = predict_type)"
   ]
  },
  {
   "cell_type": "markdown",
   "metadata": {},
   "source": [
    "# Explain Feature"
   ]
  },
  {
   "cell_type": "code",
   "execution_count": null,
   "metadata": {},
   "outputs": [],
   "source": [
    "device_id = 1\n",
    "log_dir = f\"../log/hBone\"\n",
    "dataset = \"../data/hBone/hBone_query_adata.h5ad\"\n",
    "fn_process = \"processed-test\""
   ]
  },
  {
   "cell_type": "code",
   "execution_count": null,
   "metadata": {},
   "outputs": [],
   "source": [
    "cellgraph.explain_feature(dataset = dataset, device_id = device_id ,log_dir = log_dir, explain_method = \"grad\", fn_process = fn_process)\n",
    "cellgraph.explain_feature(dataset = dataset, device_id = device_id ,log_dir = log_dir, explain_method = \"grad_cam\", fn_process = fn_process)\n",
    "cellgraph.explain_feature(dataset = dataset, device_id = device_id ,log_dir = log_dir, explain_method = \"attention\", return_sample = 0, prod_value = 0, fn_process = fn_process)"
   ]
  },
  {
   "cell_type": "markdown",
   "metadata": {},
   "source": [
    "# Explain PPI"
   ]
  },
  {
   "cell_type": "code",
   "execution_count": null,
   "metadata": {},
   "outputs": [],
   "source": [
    "device_id = 1\n",
    "log_dir = f\"../log/hBone\"\n",
    "dataset = \"../data/hBone/hBone_query_adata.h5ad\"\n",
    "fn_process = \"processed-test\"\n",
    "exp_dict ={\n",
    "    \"correlation\": 0,\n",
    "    \"multi_atten\": 1,\n",
    "    \"train_sample_gt\": 0,\n",
    "    \"ce_loss_gt\": 0,\n",
    "    \"exp_train_epochs\": 100,\n",
    "    \"exp_lr\": 0.01,\n",
    "}"
   ]
  },
  {
   "cell_type": "code",
   "execution_count": null,
   "metadata": {},
   "outputs": [],
   "source": [
    "cellgraph.explain_ppi(dataset = dataset, device_id = device_id ,log_dir = log_dir, fn_process = fn_process, **exp_dict)"
   ]
  }
 ],
 "metadata": {
  "kernelspec": {
   "display_name": "Python 3 (ipykernel)",
   "language": "python",
   "name": "python3"
  },
  "language_info": {
   "codemirror_mode": {
    "name": "ipython",
    "version": 3
   },
   "file_extension": ".py",
   "mimetype": "text/x-python",
   "name": "python",
   "nbconvert_exporter": "python",
   "pygments_lexer": "ipython3",
   "version": "3.8.16"
  }
 },
 "nbformat": 4,
 "nbformat_minor": 4
}
